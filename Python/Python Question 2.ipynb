{
 "cells": [
  {
   "cell_type": "markdown",
   "id": "792c6855",
   "metadata": {},
   "source": [
    "#### Question 2: -\n",
    "Consider a string to be valid if all characters of the string appear the same number of times. It is also valid if he can remove just one character at the index in the string, and the remaining characters will occur the same number of times. Given a string, determine if it is valid. If so, return YES , otherwise return NO ."
   ]
  },
  {
   "cell_type": "code",
   "execution_count": 1,
   "id": "473865db",
   "metadata": {},
   "outputs": [],
   "source": [
    "def is_valid(s):\n",
    "    freq = {}\n",
    "    for char in s:\n",
    "        if char in freq:\n",
    "            freq[char] += 1\n",
    "        else:\n",
    "            freq[char] = 1\n",
    "    values = list(freq.values())\n",
    "    values.sort()\n",
    "    unique_values = set(values)\n",
    "    \n",
    "    if len(unique_values) == 1:\n",
    "        return \"YES\"\n",
    "    elif len(unique_values) == 2:\n",
    "        if values.count(values[0]) == 1 and values[0] == 1:\n",
    "            return \"YES\"\n",
    "        elif values.count(values[-1]) == 1 and values[-2] == values[-1] - 1:\n",
    "            return \"NO\"  \n",
    "    \n",
    "    return \"NO\""
   ]
  },
  {
   "cell_type": "code",
   "execution_count": 4,
   "id": "616186b1",
   "metadata": {},
   "outputs": [
    {
     "data": {
      "text/plain": [
       "'YES'"
      ]
     },
     "execution_count": 4,
     "metadata": {},
     "output_type": "execute_result"
    }
   ],
   "source": [
    "is_valid('aabbcc')"
   ]
  },
  {
   "cell_type": "markdown",
   "id": "8fa17c22",
   "metadata": {},
   "source": [
    " This is a valid string because frequencies are { “a”: 1, “b”: 1, “c”: 1 }"
   ]
  },
  {
   "cell_type": "code",
   "execution_count": 5,
   "id": "e4ff63c8",
   "metadata": {},
   "outputs": [
    {
     "data": {
      "text/plain": [
       "'NO'"
      ]
     },
     "execution_count": 5,
     "metadata": {},
     "output_type": "execute_result"
    }
   ],
   "source": [
    "is_valid('aabc')"
   ]
  },
  {
   "cell_type": "markdown",
   "id": "1c9cea98",
   "metadata": {},
   "source": [
    " This string is not valid as we can remove only 1 occurrence of “c”. That leaves\n",
    "character frequencies of { “a”: 1, “b”: 1 , “c”: 2 }"
   ]
  },
  {
   "cell_type": "code",
   "execution_count": null,
   "id": "f7c44599",
   "metadata": {},
   "outputs": [],
   "source": []
  }
 ],
 "metadata": {
  "kernelspec": {
   "display_name": "Python 3 (ipykernel)",
   "language": "python",
   "name": "python3"
  },
  "language_info": {
   "codemirror_mode": {
    "name": "ipython",
    "version": 3
   },
   "file_extension": ".py",
   "mimetype": "text/x-python",
   "name": "python",
   "nbconvert_exporter": "python",
   "pygments_lexer": "ipython3",
   "version": "3.9.12"
  }
 },
 "nbformat": 4,
 "nbformat_minor": 5
}
