{
 "cells": [
  {
   "cell_type": "markdown",
   "id": "2e87a07f",
   "metadata": {},
   "source": [
    "Q-9. Given the score of students in multiple exams\n",
    "\n",
    "Test the hypothesis that the mean scores of all the students are the same. If not, name the\n",
    "student with the highest score."
   ]
  },
  {
   "cell_type": "code",
   "execution_count": 36,
   "id": "1806cf00",
   "metadata": {},
   "outputs": [
    {
     "name": "stdout",
     "output_type": "stream",
     "text": [
      "One-way ANOVA F-statistic: 0.3236947791164659\n",
      "p-value: 0.7295954253321559\n"
     ]
    }
   ],
   "source": [
    "import pandas as pd\n",
    "import scipy.stats as stats\n",
    "\n",
    "# Create a DataFrame with the given data\n",
    "data = {\n",
    "    'name': ['karan', 'deepa', 'karthik', 'chandan', 'jeevan'],\n",
    "    'exam1': [85, 70, 90, 75, 95],\n",
    "    'exam2': [90, 80, 85, 70, 92],\n",
    "    'finalexam': [92, 85, 88, 75, 96]\n",
    "}\n",
    "\n",
    "df = pd.DataFrame(data)\n",
    "\n",
    "# Perform one-way ANOVA\n",
    "f_statistic, p_value = stats.f_oneway(df['exam1'], df['exam2'], df['finalexam'])\n",
    "\n",
    "# Print the test statistic and p-value\n",
    "print(\"One-way ANOVA F-statistic:\", f_statistic)\n",
    "print(\"p-value:\", p_value)\n",
    "\n",
    "\n",
    "\n"
   ]
  },
  {
   "cell_type": "markdown",
   "id": "63f811e9",
   "metadata": {},
   "source": [
    "The p-value is greater than the chosen significance level ( 0.05), it indicates that there is no significant differences in the mean scores of the students across the exams, and we accept the null hypothesis that the mean scores are the same.\n"
   ]
  },
  {
   "cell_type": "code",
   "execution_count": 37,
   "id": "c787883e",
   "metadata": {},
   "outputs": [
    {
     "name": "stdout",
     "output_type": "stream",
     "text": [
      "Student with the highest score: jeevan\n"
     ]
    }
   ],
   "source": [
    "\n",
    "max_score = df[['exam1', 'exam2', 'finalexam']].max().max()\n",
    "student_with_highest_score = df[df[['exam1', 'exam2', 'finalexam']].max(axis=1) == max_score]['name'].iloc[0]\n",
    "\n",
    "print(\"Student with the highest score:\", student_with_highest_score)\n",
    "\n"
   ]
  },
  {
   "cell_type": "code",
   "execution_count": null,
   "id": "637bc41d",
   "metadata": {},
   "outputs": [],
   "source": []
  }
 ],
 "metadata": {
  "kernelspec": {
   "display_name": "Python 3 (ipykernel)",
   "language": "python",
   "name": "python3"
  },
  "language_info": {
   "codemirror_mode": {
    "name": "ipython",
    "version": 3
   },
   "file_extension": ".py",
   "mimetype": "text/x-python",
   "name": "python",
   "nbconvert_exporter": "python",
   "pygments_lexer": "ipython3",
   "version": "3.9.12"
  }
 },
 "nbformat": 4,
 "nbformat_minor": 5
}
