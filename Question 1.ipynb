{
 "cells": [
  {
   "cell_type": "code",
   "execution_count": 1,
   "id": "d4419dc8",
   "metadata": {},
   "outputs": [
    {
     "name": "stdout",
     "output_type": "stream",
     "text": [
      "Enter a sentence: my my my name name name is lovely\n",
      "4\n"
     ]
    }
   ],
   "source": [
    "string = str(input(\"Enter a sentence: \"))\n",
    "words=string.split()# splits each word in the sentence \n",
    "frequency={} # empty dictionary is created to store the word frequency\n",
    "for word in words:\n",
    "    if word in frequency:\n",
    "        frequency[word] += 1\n",
    "    else:\n",
    "        frequency[word] = 1\n",
    "highest_frequency = max(frequency.values())\n",
    "highest_length = max(len(word) for word in frequency if frequency[word] == highest_frequency) #length of highest frequency word\n",
    "print(highest_length)"
   ]
  },
  {
   "cell_type": "markdown",
   "id": "470f573a",
   "metadata": {},
   "source": [
    "From the given string we can note that the most frequent words are “my” and “name” and the maximum value of both the values is “name” and its corresponding length is 4"
   ]
  },
  {
   "cell_type": "code",
   "execution_count": 2,
   "id": "b69fbe3d",
   "metadata": {},
   "outputs": [
    {
     "name": "stdout",
     "output_type": "stream",
     "text": [
      "Enter a sentence: Enter a sentence: my my name is lovely\n",
      "2\n"
     ]
    }
   ],
   "source": [
    "string = str(input(\"Enter a sentence: \"))\n",
    "words=string.split()# splits each word in the sentence \n",
    "frequency={} # empty dictionary is created to store the word frequency\n",
    "for word in words:\n",
    "    if word in frequency:\n",
    "        frequency[word] += 1\n",
    "    else:\n",
    "        frequency[word] = 1\n",
    "highest_frequency = max(frequency.values())\n",
    "highest_length = max(len(word) for word in frequency if frequency[word] == highest_frequency) #length of highest frequency word\n",
    "print(highest_length)"
   ]
  },
  {
   "cell_type": "markdown",
   "id": "33326759",
   "metadata": {},
   "source": [
    "From the given string we can note that the most frequent word is \"my\" and its length is 3"
   ]
  },
  {
   "cell_type": "code",
   "execution_count": null,
   "id": "b34ce213",
   "metadata": {},
   "outputs": [],
   "source": []
  }
 ],
 "metadata": {
  "kernelspec": {
   "display_name": "Python 3 (ipykernel)",
   "language": "python",
   "name": "python3"
  },
  "language_info": {
   "codemirror_mode": {
    "name": "ipython",
    "version": 3
   },
   "file_extension": ".py",
   "mimetype": "text/x-python",
   "name": "python",
   "nbconvert_exporter": "python",
   "pygments_lexer": "ipython3",
   "version": "3.9.12"
  }
 },
 "nbformat": 4,
 "nbformat_minor": 5
}
