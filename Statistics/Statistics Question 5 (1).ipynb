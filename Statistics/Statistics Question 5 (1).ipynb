{
 "cells": [
  {
   "cell_type": "markdown",
   "id": "4925c605",
   "metadata": {},
   "source": [
    "Q-5. A certain city has two taxi companies: Company A has 80% of the taxis and\n",
    "Company B has 20% of the taxis. Company A's taxis have a 95% success rate for picking\n",
    "up passengers on time, while Company B's taxis have a 90% success rate. If a randomly\n",
    "selected taxi is late, what is the probability that it belongs to Company A?"
   ]
  },
  {
   "cell_type": "markdown",
   "id": "643f3dcb",
   "metadata": {},
   "source": [
    "Ans:\n",
    "P(A) = Probability of selecting a taxi from Company A = 80% = 0.8\n",
    "P(B) = Probability of selecting a taxi from Company A = 20% = 0.2\n",
    "P(L|A) = Probability of taxi being late given that it belongs to Company A= 1-0.95 = 0.05\n",
    "P(L|B) = Probability of taxi being late given that it belongs to Company b= 1-0.90 = 0.10\n",
    "\n",
    "According to Bayes’ theorem,\n",
    "P(A|L) = Probability of taxi belonging to Company A given that it is late = P(L|A)*P(L|B)/{P(L|A)*P(A)+ P(L|B)*P(B) = (0.05*0.10)/{(0.05*0.8)+(0.10*0.2)}  = 0.04/0.06 = 2/3\n",
    "\n",
    "The probability that a randomly selected late taxi belongs to company A is 2/3 or 0.67 approx.\n"
   ]
  }
 ],
 "metadata": {
  "kernelspec": {
   "display_name": "Python 3 (ipykernel)",
   "language": "python",
   "name": "python3"
  },
  "language_info": {
   "codemirror_mode": {
    "name": "ipython",
    "version": 3
   },
   "file_extension": ".py",
   "mimetype": "text/x-python",
   "name": "python",
   "nbconvert_exporter": "python",
   "pygments_lexer": "ipython3",
   "version": "3.9.12"
  }
 },
 "nbformat": 4,
 "nbformat_minor": 5
}
