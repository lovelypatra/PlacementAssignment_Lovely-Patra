{
 "cells": [
  {
   "cell_type": "markdown",
   "id": "6a141a7a",
   "metadata": {},
   "source": [
    "Q-2. Consider a dataset containing the heights (in centimeters) of 1000 individuals. The\n",
    "mean height is 170 cm with a standard deviation of 10 cm. The dataset is approximately\n",
    "normally distributed, and its skewness is approximately zero. Based on this information,\n",
    "answer the following questions:\n",
    "a. What percentage of individuals in the dataset have heights between 160 cm\n",
    "and 180 cm?\n",
    "b. If we randomly select 100 individuals from the dataset, what is the probability\n",
    "that their average height is greater than 175 cm?\n",
    "c. Assuming the dataset follows a normal distribution, what is the z-score\n",
    "corresponding to a height of 185 cm?\n",
    "d. We know that 5% of the dataset has heights below a certain value. What is\n",
    "the approximate height corresponding to this threshold?\n",
    "e. Calculate the coefficient of variation (CV) for the dataset.\n",
    "f. Calculate the skewness of the dataset and interpret the result."
   ]
  },
  {
   "cell_type": "markdown",
   "id": "77d1c5f0",
   "metadata": {},
   "source": [
    "Ans: \n",
    "Mean,μ = 170\n",
    "Standard Deviation,σ =10\n",
    "Z score = (x-μ)/σ        where x is the value we want to convert to z score\n",
    "\n"
   ]
  },
  {
   "cell_type": "markdown",
   "id": "c923a4b3",
   "metadata": {},
   "source": [
    "a. As the dataset is normally distributed, we can use the standard normal distribution table or z-table.\n",
    "Z Score for 160 = (160-170)/10 = -1\n",
    "Z Score for 180 = (180-170)/10 = 1\n",
    "\n",
    "Area under the bell curve to the left of 160 = 0.1587\n",
    "Area under the bell curve to the left of 180 = 0.8413\n",
    "\n",
    "Percentage of individuals having heights between 160 cm and 180 cm = 0.8413-0.1587 = 0.6826 = 68%\n",
    "\n"
   ]
  },
  {
   "cell_type": "markdown",
   "id": "9f7c972a",
   "metadata": {},
   "source": [
    "b. n=100\n",
    "Standard error of mean(SEM) = 10/sqrt of 100 = 1\n",
    "To find the Probability that the average height is greater than 175 cm , we have to calculate z score for 175 cm\n",
    "Z score for 175 = (175-170)/1 = 5\n",
    "Using the z table, the probability of z>5 is found to be very close to 0.\n",
    "So, the probability  that the average height of randomly selected 100 individuals is greater than 175 cm is approximately zero\n"
   ]
  },
  {
   "cell_type": "markdown",
   "id": "8ab48daf",
   "metadata": {},
   "source": [
    "c. Z-score corresponding to a height of 185 cm = (185-170)/10 = 1.5\n",
    "\n"
   ]
  },
  {
   "cell_type": "markdown",
   "id": "b55d9d9f",
   "metadata": {},
   "source": [
    "d. We need to find the Z-score corresponding to the cumulative probability of 0.05(5%) \n",
    " Using z table , the Z-score corresponding to the cumulative probability of 0.05(5%) \n",
    "= -1.64\n",
    "Z score for x = (x-μ)/σ\n",
    "-1.64 = (x-170)/10\n",
    "x = -16.4+170 = 153.6\n",
    "The approximate height corresponding to 5% threshold is 153.6cm\n"
   ]
  },
  {
   "cell_type": "markdown",
   "id": "302a0e11",
   "metadata": {},
   "source": [
    "e. Coefficient Of variation, CV =( σ/μ) * 100 = (10/170)*100 = 0.0588*100 = 58% approx.\n",
    "\n"
   ]
  },
  {
   "cell_type": "markdown",
   "id": "6c73a460",
   "metadata": {},
   "source": [
    "f. The skewness of a dataset measures the asymmetry of its distribution. A skewness value close to zero indicates that the dataset is approximately symmetric.\n",
    "Given that the skewness of the dataset is approximately zero, it means that the dataset is approximately symmetric, or in other words the heights are evenly distributed around the mean. There is no significant skew towards the left or right side of the distribution.\n"
   ]
  }
 ],
 "metadata": {
  "kernelspec": {
   "display_name": "Python 3 (ipykernel)",
   "language": "python",
   "name": "python3"
  },
  "language_info": {
   "codemirror_mode": {
    "name": "ipython",
    "version": 3
   },
   "file_extension": ".py",
   "mimetype": "text/x-python",
   "name": "python",
   "nbconvert_exporter": "python",
   "pygments_lexer": "ipython3",
   "version": "3.9.12"
  }
 },
 "nbformat": 4,
 "nbformat_minor": 5
}
