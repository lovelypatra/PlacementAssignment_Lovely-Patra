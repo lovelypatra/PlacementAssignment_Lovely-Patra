{
 "cells": [
  {
   "cell_type": "markdown",
   "id": "5d687118",
   "metadata": {},
   "source": [
    "Q-7. The equations of two lines of regression, obtained in a correlation analysis\n",
    "between variables X and Y are as follows:\n",
    "\n",
    "and . 2X + 3 − 8 = 0 2Y + X − 5 = 0 The variance of X = 4 Find the\n",
    "a. Variance of Y\n",
    "b. Coefficient of determination of C and Y\n",
    "c. Standard error of estimate of X on Y and of Y on X."
   ]
  },
  {
   "cell_type": "markdown",
   "id": "6e07fbf5",
   "metadata": {},
   "source": [
    "ANS: \n",
    "\n",
    "a. Variance of Y = (slope of regression line for Y)*(Variance of X) = 2*4 = 8\n",
    "\n"
   ]
  },
  {
   "cell_type": "markdown",
   "id": "a4911273",
   "metadata": {},
   "source": [
    "b. Coefficient of determination of X and Y = explained variance/total variance = 8/12 = 2/3"
   ]
  },
  {
   "cell_type": "markdown",
   "id": "be8d34f0",
   "metadata": {},
   "source": [
    "c. Standard error of estimate of X on Y:\n",
    "SEE(X|Y) = sqrt((1 - R^2) * variance of X)\n",
    "= sqrt((1 - 2/3) * 4)\n",
    "= sqrt(2/3)\n",
    "\n",
    "Standard error of estimate of Y on X:\n",
    "SEE(Y|X) = sqrt((1 - R^2) * variance of Y)\n",
    "= sqrt((1 - 2/3) * 8)\n",
    "= sqrt(8/3)\n",
    "\n"
   ]
  }
 ],
 "metadata": {
  "kernelspec": {
   "display_name": "Python 3 (ipykernel)",
   "language": "python",
   "name": "python3"
  },
  "language_info": {
   "codemirror_mode": {
    "name": "ipython",
    "version": 3
   },
   "file_extension": ".py",
   "mimetype": "text/x-python",
   "name": "python",
   "nbconvert_exporter": "python",
   "pygments_lexer": "ipython3",
   "version": "3.9.12"
  }
 },
 "nbformat": 4,
 "nbformat_minor": 5
}
