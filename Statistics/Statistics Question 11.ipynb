{
 "cells": [
  {
   "cell_type": "markdown",
   "id": "2e87a07f",
   "metadata": {},
   "source": [
    "Q-11. Given the data of a feature contributing to different classes\n",
    "\n",
    "https://drive.google.com/file/d/1mCjtYHiX--mMUjicuaP2gH3k-SnFxt8Y/view?usp=share_\n",
    "\n",
    "a. Check whether the distribution of all the classes are the same or not.\n",
    "b. Check for the equality of variance/\n",
    "c. Which amount LDA and QDA would perform better on this data for\n",
    "classification and why.\n",
    "d. Check the equality of mean for between all the classes."
   ]
  },
  {
   "cell_type": "markdown",
   "id": "9ac74c95",
   "metadata": {},
   "source": [
    "a."
   ]
  },
  {
   "cell_type": "code",
   "execution_count": 40,
   "id": "0ffd1473",
   "metadata": {},
   "outputs": [
    {
     "data": {
      "image/png": "[encoded data removed]",
      "text/plain": [
       "<Figure size 720x432 with 1 Axes>"
      ]
     },
     "metadata": {
      "needs_background": "light"
     },
     "output_type": "display_data"
    }
   ],
   "source": [
    "import matplotlib.pyplot as plt\n",
    "import pandas as pd\n",
    "\n",
    "df = pd.read_csv('data.csv')\n",
    "\n",
    "# Plot histograms for each class\n",
    "plt.figure(figsize=(10, 6))\n",
    "plt.hist(df[' Blood Pressure Before (mmHg)'], bins=10, alpha=0.5, label='Before')\n",
    "plt.hist(df[' Blood Pressure After (mmHg)'], bins=10, alpha=0.5, label='After')\n",
    "plt.xlabel('Blood Pressure (mmHg)')\n",
    "plt.ylabel('Frequency')\n",
    "plt.title('Distribution of Blood Pressure')\n",
    "plt.legend()\n",
    "plt.show()"
   ]
  },
  {
   "cell_type": "markdown",
   "id": "f2ea27b8",
   "metadata": {},
   "source": [
    "b. To check the equality of variance between the two classes, we can use a statistical test such as Levene's test or Bartlett's test. These tests compare the variances of multiple groups and determine if they are significantly different.\n",
    "\n"
   ]
  },
  {
   "cell_type": "code",
   "execution_count": 41,
   "id": "b842f2f4",
   "metadata": {},
   "outputs": [
    {
     "name": "stdout",
     "output_type": "stream",
     "text": [
      "Levene's test statistic: 0.18038002140150966\n",
      "p-value: 0.6715080090945376\n"
     ]
    }
   ],
   "source": [
    "from scipy.stats import levene\n",
    "\n",
    "# Perform Levene's test\n",
    "statistic, p_value = levene(df[' Blood Pressure Before (mmHg)'], df[' Blood Pressure After (mmHg)'])\n",
    "print('Levene\\'s test statistic:', statistic)\n",
    "print('p-value:', p_value)"
   ]
  },
  {
   "cell_type": "markdown",
   "id": "2f85fef6",
   "metadata": {},
   "source": [
    "c. LDA (Linear Discriminant Analysis) and QDA (Quadratic Discriminant Analysis) are classification methods used when the goal is to predict the class membership of observations based on their predictor variables. LDA assumes that the classes have equal covariance matrices and differ only in their means. QDA, on the other hand, allows for different covariance matrices for each class.\n",
    "To determine which method (LDA or QDA) would perform better on this data for classification, we can perform cross-validation or calculate the misclassification rate for both methods. By comparing the performance of LDA and QDA on the data, we can determine which method provides better classification accuracy. The choice between LDA and QDA depends on the underlying data distribution and the assumptions made about the covariance matrices.\n"
   ]
  },
  {
   "cell_type": "markdown",
   "id": "3c440d2c",
   "metadata": {},
   "source": [
    "d."
   ]
  },
  {
   "cell_type": "markdown",
   "id": "e7c2a678",
   "metadata": {},
   "source": [
    "To check the equality of mean between all the classes, we can use a statistical test such as one-way ANOVA (Analysis of Variance). This test compares the means of multiple groups and determines if there is a significant difference."
   ]
  },
  {
   "cell_type": "code",
   "execution_count": 43,
   "id": "dc564a7e",
   "metadata": {},
   "outputs": [
    {
     "name": "stdout",
     "output_type": "stream",
     "text": [
      "One-way ANOVA statistic: 33.85555270599285\n",
      "p-value: 2.3565868442707578e-08\n"
     ]
    }
   ],
   "source": [
    "from scipy.stats import f_oneway\n",
    "\n",
    "# Perform one-way ANOVA\n",
    "statistic, p_value = f_oneway(df[' Blood Pressure Before (mmHg)'], df[' Blood Pressure After (mmHg)'])\n",
    "print('One-way ANOVA statistic:', statistic)\n",
    "print('p-value:', p_value)"
   ]
  },
  {
   "cell_type": "markdown",
   "id": "399d25d1",
   "metadata": {},
   "source": [
    "p-value is greater than 0.05 so there is no significant difference between the mean of all the classes. we accept the null hypothesis"
   ]
  },
  {
   "cell_type": "code",
   "execution_count": null,
   "id": "783c40c9",
   "metadata": {},
   "outputs": [],
   "source": []
  }
 ],
 "metadata": {
  "kernelspec": {
   "display_name": "Python 3 (ipykernel)",
   "language": "python",
   "name": "python3"
  },
  "language_info": {
   "codemirror_mode": {
    "name": "ipython",
    "version": 3
   },
   "file_extension": ".py",
   "mimetype": "text/x-python",
   "name": "python",
   "nbconvert_exporter": "python",
   "pygments_lexer": "ipython3",
   "version": "3.9.12"
  }
 },
 "nbformat": 4,
 "nbformat_minor": 5
}
