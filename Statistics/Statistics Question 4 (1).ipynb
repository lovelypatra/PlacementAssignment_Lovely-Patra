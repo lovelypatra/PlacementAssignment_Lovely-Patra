{
 "cells": [
  {
   "cell_type": "markdown",
   "id": "ae2e6cca",
   "metadata": {},
   "source": [
    "Q-4. A group of 20 friends decide to play a game in which they each write a number\n",
    "between 1 and 20 on a slip of paper and put it into a hat. They then draw one slip of paper\n",
    "at random. What is the probability that the number on the slip of paper is a perfect square\n",
    "(i.e., 1, 4, 9, or 16)?"
   ]
  },
  {
   "cell_type": "markdown",
   "id": "d72b01c4",
   "metadata": {},
   "source": [
    "Ans: There are four perfect squares between 1 and 20: 1,4,16,20\n",
    "Total no. of possible outcomes = 20\n",
    "The probability that the number on the slip of the paper is a perfect square = No. of favorable outcomes/Total no. of possible outcomes = 4/20 = ⅕\n"
   ]
  }
 ],
 "metadata": {
  "kernelspec": {
   "display_name": "Python 3 (ipykernel)",
   "language": "python",
   "name": "python3"
  },
  "language_info": {
   "codemirror_mode": {
    "name": "ipython",
    "version": 3
   },
   "file_extension": ".py",
   "mimetype": "text/x-python",
   "name": "python",
   "nbconvert_exporter": "python",
   "pygments_lexer": "ipython3",
   "version": "3.9.12"
  }
 },
 "nbformat": 4,
 "nbformat_minor": 5
}
