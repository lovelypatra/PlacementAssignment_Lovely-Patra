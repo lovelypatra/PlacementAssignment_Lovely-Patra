{
 "cells": [
  {
   "cell_type": "markdown",
   "id": "0c85c84d",
   "metadata": {},
   "source": [
    "Q-12. A pharmaceutical company develops a new drug and wants to compare its\n",
    "effectiveness against a standard drug for treating a particular condition. They conduct a\n",
    "study with two groups: Group A receives the new drug, and Group B receives the standard\n",
    "drug. The company measures the improvement in a specific symptom for both groups after\n",
    "a 4-week treatment period.\n",
    "a. The company collects data from 30 patients in each group and calculates the\n",
    "mean improvement score and the standard deviation of improvement for each\n",
    "group. The mean improvement score for Group A is 2.5 with a standard\n",
    "deviation of 0.8, while the mean improvement score for Group B is 2.2 with a\n",
    "standard deviation of 0.6. Conduct a t-test to determine if there is a significant\n",
    "difference in the mean improvement scores between the two groups. Use a\n",
    "significance level of 0.05.\n",
    "b. Based on the t-test results, state whether the null hypothesis should be\n",
    "rejected or not. Provide a conclusion in the context of the study."
   ]
  },
  {
   "cell_type": "markdown",
   "id": "f2be8c95",
   "metadata": {},
   "source": [
    "ANS:\n",
    "\n",
    "a. The null hypothesis (H0) states that there is no significant difference between the mean improvement scores of the two groups. \n",
    "The alternative hypothesis (H1) states that there is a significant difference between the mean improvement scores of the two groups.\n",
    "\n",
    "Given:\n",
    "Group A: \n",
    "Mean improvement score (x̄1) = 2.5\n",
    "Standard deviation (s1) = 0.8\n",
    "Sample size (n1) = 30\n",
    "\n",
    "Group B: \n",
    "Mean improvement score (x̄2) = 2.2\n",
    "Standard deviation (s2) = 0.6\n",
    "Sample size (n2) = 30\n",
    "\n",
    "Significance level (α) = 0.05\n",
    "\n",
    "We can calculate the t-value using the following formula:\n",
    "\n",
    "t = (x̄1 - x̄2) / √[(s1^2/n1) + (s2^2/n2)]\n",
    "\n",
    "Substituting the values, we get:\n",
    "\n",
    "t = (2.5 - 2.2) / √[(0.8^2/30) + (0.6^2/30)] = 0.3/√0.64/30 + √0.36/30 = 0.3/0.14+0.1.9 = 0.3/0.249 = 1.20\n",
    "\n",
    "The degrees of freedom (df) for the t-test in this case is (n1 + n2 - 2) = (30 + 30 - 2) = 58.\n",
    "\n",
    "Looking up the critical t-value for a significance level of 0.05 and 58 degrees of freedom (two-tailed test), we find it to be approximately ±2.001.\n",
    "\n"
   ]
  },
  {
   "cell_type": "markdown",
   "id": "6c872083",
   "metadata": {},
   "source": [
    "b. Since the calculated t-value (1.20) is not greater than 2.001 or less than -2.001, we fail to reject the null hypothesis (H0). This means that there is not enough evidence to conclude that there is a significant difference in the mean improvement scores between Group A and Group B.\n",
    "\n",
    "Based on the results of the t-test, we cannot conclude that the new drug has a significantly different effectiveness compared to the standard drug for treating the specific condition.\n"
   ]
  }
 ],
 "metadata": {
  "kernelspec": {
   "display_name": "Python 3 (ipykernel)",
   "language": "python",
   "name": "python3"
  },
  "language_info": {
   "codemirror_mode": {
    "name": "ipython",
    "version": 3
   },
   "file_extension": ".py",
   "mimetype": "text/x-python",
   "name": "python",
   "nbconvert_exporter": "python",
   "pygments_lexer": "ipython3",
   "version": "3.9.12"
  }
 },
 "nbformat": 4,
 "nbformat_minor": 5
}
